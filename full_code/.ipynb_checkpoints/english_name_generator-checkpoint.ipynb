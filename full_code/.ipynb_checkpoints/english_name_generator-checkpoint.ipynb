{
 "cells": [
  {
   "cell_type": "markdown",
   "metadata": {},
   "source": [
    "# 1) NECESSARY TO RUN"
   ]
  },
  {
   "cell_type": "markdown",
   "metadata": {},
   "source": [
    "## Load Processed Data"
   ]
  },
  {
   "cell_type": "code",
   "execution_count": 115,
   "metadata": {},
   "outputs": [],
   "source": [
    "with open(\"data/us_names.txt\", encoding=None) as f:\n",
    "    names = [name.lower() for name in f.readlines()]"
   ]
  },
  {
   "cell_type": "code",
   "execution_count": 116,
   "metadata": {},
   "outputs": [],
   "source": [
    "# create names set\n",
    "names_set = set([name.strip() for name in names])"
   ]
  },
  {
   "cell_type": "code",
   "execution_count": 117,
   "metadata": {},
   "outputs": [],
   "source": [
    "# encode as binary and write to file (solution of a heroku error)\n",
    "utf_encoded = [name.encode(\"utf-8\") for name in names]\n",
    "\n",
    "with open(\"data/us_names_utf_8\", \"wb\") as f:\n",
    "    f.writelines(utf_encoded)"
   ]
  },
  {
   "cell_type": "code",
   "execution_count": 118,
   "metadata": {},
   "outputs": [],
   "source": [
    "# open utf-8 encoded names\n",
    "with open(\"data/us_names_utf_8\", \"rb\") as f:\n",
    "    utf_names = [name.decode(\"utf-8\") for name in f.readlines()]"
   ]
  },
  {
   "cell_type": "code",
   "execution_count": 120,
   "metadata": {},
   "outputs": [
    {
     "data": {
      "text/plain": [
       "['aaron\\n',\n",
       " 'abbey\\n',\n",
       " 'abbie\\n',\n",
       " 'abby\\n',\n",
       " 'abdul\\n',\n",
       " 'abe\\n',\n",
       " 'abel\\n',\n",
       " 'abigail\\n',\n",
       " 'abraham\\n',\n",
       " 'abram\\n']"
      ]
     },
     "execution_count": 120,
     "metadata": {},
     "output_type": "execute_result"
    }
   ],
   "source": [
    "names[:10]"
   ]
  },
  {
   "cell_type": "markdown",
   "metadata": {
    "id": "L610v2fZ_dt-"
   },
   "source": [
    "## Prepare Data"
   ]
  },
  {
   "cell_type": "code",
   "execution_count": 7,
   "metadata": {
    "id": "LJqvQFJBARGX"
   },
   "outputs": [],
   "source": [
    "import tensorflow as tf\n",
    "import numpy as np"
   ]
  },
  {
   "cell_type": "code",
   "execution_count": 8,
   "metadata": {},
   "outputs": [],
   "source": [
    "# add start(<) and end(>) tokens to names\n",
    "for i in range(len(names)):\n",
    "    names[i] = \"<\" + names[i].strip() + \">\""
   ]
  },
  {
   "cell_type": "code",
   "execution_count": 9,
   "metadata": {},
   "outputs": [
    {
     "data": {
      "text/plain": [
       "['<aaron>', '<abbey>', '<abbie>']"
      ]
     },
     "execution_count": 9,
     "metadata": {},
     "output_type": "execute_result"
    }
   ],
   "source": [
    "# examples\n",
    "names[:3]"
   ]
  },
  {
   "cell_type": "code",
   "execution_count": 10,
   "metadata": {},
   "outputs": [],
   "source": [
    "## create dicts converting char to index and index to char\n",
    "# get all chars\n",
    "all_chars = sorted(set(\"\".join(names)))\n",
    "vocab_size = len(all_chars) + 1 # +1 for empty character (padding)\n",
    "\n",
    "# lookup dicts\n",
    "char_to_index = dict([(ch, ix+1) for ix, ch in enumerate(all_chars)])\n",
    "index_to_char = dict([(ix, ch) for ch, ix in char_to_index.items()])\n",
    "\n",
    "# max sequence len\n",
    "max_len = max([len(name) for name in names])"
   ]
  },
  {
   "cell_type": "code",
   "execution_count": 11,
   "metadata": {},
   "outputs": [
    {
     "data": {
      "text/plain": [
       "['<',\n",
       " '>',\n",
       " 'a',\n",
       " 'b',\n",
       " 'c',\n",
       " 'd',\n",
       " 'e',\n",
       " 'f',\n",
       " 'g',\n",
       " 'h',\n",
       " 'i',\n",
       " 'j',\n",
       " 'k',\n",
       " 'l',\n",
       " 'm',\n",
       " 'n',\n",
       " 'o',\n",
       " 'p',\n",
       " 'q',\n",
       " 'r',\n",
       " 's',\n",
       " 't',\n",
       " 'u',\n",
       " 'v',\n",
       " 'w',\n",
       " 'x',\n",
       " 'y',\n",
       " 'z']"
      ]
     },
     "execution_count": 11,
     "metadata": {},
     "output_type": "execute_result"
    }
   ],
   "source": [
    "all_chars"
   ]
  },
  {
   "cell_type": "markdown",
   "metadata": {
    "id": "hC7y5qHABZWm"
   },
   "source": [
    "### Seq to Name and Name to Seq"
   ]
  },
  {
   "cell_type": "code",
   "execution_count": 12,
   "metadata": {
    "id": "JfYa8Cv6BJW_"
   },
   "outputs": [],
   "source": [
    "def name_to_seq(name):\n",
    "    return [char_to_index[ch] for ch in name]"
   ]
  },
  {
   "cell_type": "code",
   "execution_count": 13,
   "metadata": {
    "id": "HOYH6xrYB22P"
   },
   "outputs": [],
   "source": [
    "def seq_to_name(seq):\n",
    "    return \"\".join([index_to_char[i] for i in seq])"
   ]
  },
  {
   "cell_type": "markdown",
   "metadata": {},
   "source": [
    "# 2) TRAIN MODEL (Optional)"
   ]
  },
  {
   "cell_type": "markdown",
   "metadata": {
    "id": "IwyOc8jHCrfn"
   },
   "source": [
    "## Create sequences and pad sequences to same length"
   ]
  },
  {
   "cell_type": "code",
   "execution_count": 14,
   "metadata": {},
   "outputs": [],
   "source": [
    "# create X and y data\n",
    "X, y = [], []\n",
    "for name in names:\n",
    "    X_seq = name_to_seq(name[:-1])\n",
    "    y_seq = name_to_seq(name[1:])\n",
    "    \n",
    "    X.append(X_seq)\n",
    "    y.append(y_seq)"
   ]
  },
  {
   "cell_type": "code",
   "execution_count": 15,
   "metadata": {},
   "outputs": [],
   "source": [
    "# pad sequences in X and y Data\n",
    "X =  tf.keras.preprocessing.sequence.pad_sequences(\n",
    "    X, maxlen=max_len, padding=\"pre\"\n",
    ")\n",
    "\n",
    "y =  tf.keras.preprocessing.sequence.pad_sequences(\n",
    "    y, maxlen=max_len, padding=\"pre\"\n",
    ")"
   ]
  },
  {
   "cell_type": "code",
   "execution_count": 16,
   "metadata": {},
   "outputs": [
    {
     "name": "stdout",
     "output_type": "stream",
     "text": [
      "(5163, 13) (5163, 13)\n"
     ]
    }
   ],
   "source": [
    "print(X.shape, y.shape)"
   ]
  },
  {
   "cell_type": "markdown",
   "metadata": {
    "id": "0Wf4JTUSBPUD"
   },
   "source": [
    "## Train Test Split"
   ]
  },
  {
   "cell_type": "code",
   "execution_count": 17,
   "metadata": {
    "id": "Wcwb3pD4D_yW"
   },
   "outputs": [],
   "source": [
    "from sklearn.model_selection import train_test_split"
   ]
  },
  {
   "cell_type": "code",
   "execution_count": 18,
   "metadata": {
    "colab": {
     "base_uri": "https://localhost:8080/"
    },
    "id": "ajka8_jLBOr8",
    "outputId": "824cbca5-5061-4d8c-dc51-b31733fee2bc"
   },
   "outputs": [
    {
     "name": "stdout",
     "output_type": "stream",
     "text": [
      "(4388, 13) (775, 13)\n"
     ]
    }
   ],
   "source": [
    "X_train, X_test, y_train, y_test = train_test_split(X, y, random_state=1, test_size=0.15)\n",
    "\n",
    "print(X_train.shape, X_test.shape)"
   ]
  },
  {
   "cell_type": "markdown",
   "metadata": {
    "id": "7IpuexoW_hyg"
   },
   "source": [
    "## Create Model"
   ]
  },
  {
   "cell_type": "code",
   "execution_count": 19,
   "metadata": {
    "id": "_ve1vqUTEqKo"
   },
   "outputs": [],
   "source": [
    "from tensorflow.keras.models import Model\n",
    "from tensorflow.keras.layers import Input, Embedding, LSTM, Dense"
   ]
  },
  {
   "cell_type": "code",
   "execution_count": 20,
   "metadata": {},
   "outputs": [],
   "source": [
    "# Model Settings\n",
    "embedding_dim = 64"
   ]
  },
  {
   "cell_type": "code",
   "execution_count": 21,
   "metadata": {},
   "outputs": [],
   "source": [
    "# create model layers\n",
    "inputs = Input(shape=(None,))\n",
    "\n",
    "embedding_layer = Embedding(vocab_size, embedding_dim, mask_zero=True)\n",
    "x = embedding_layer(inputs)\n",
    "\n",
    "lstm_layer = LSTM(64, return_sequences=True, return_state=True)\n",
    "x, _, _ = lstm_layer(x)\n",
    "\n",
    "output_layer = Dense(vocab_size, activation=\"softmax\")\n",
    "outputs = output_layer(x)\n",
    "\n",
    "# create model\n",
    "model = Model(inputs, outputs)\n",
    "\n",
    "# compile model\n",
    "model.compile(\n",
    "    loss=\"sparse_categorical_crossentropy\",\n",
    "    optimizer=\"adam\",\n",
    "    metrics=[\"accuracy\"]\n",
    ")"
   ]
  },
  {
   "cell_type": "code",
   "execution_count": 22,
   "metadata": {},
   "outputs": [
    {
     "name": "stdout",
     "output_type": "stream",
     "text": [
      "Model: \"model\"\n",
      "_________________________________________________________________\n",
      "Layer (type)                 Output Shape              Param #   \n",
      "=================================================================\n",
      "input_1 (InputLayer)         [(None, None)]            0         \n",
      "_________________________________________________________________\n",
      "embedding (Embedding)        (None, None, 64)          1856      \n",
      "_________________________________________________________________\n",
      "lstm (LSTM)                  [(None, None, 64), (None, 33024     \n",
      "_________________________________________________________________\n",
      "dense (Dense)                (None, None, 29)          1885      \n",
      "=================================================================\n",
      "Total params: 36,765\n",
      "Trainable params: 36,765\n",
      "Non-trainable params: 0\n",
      "_________________________________________________________________\n"
     ]
    }
   ],
   "source": [
    "model.summary()"
   ]
  },
  {
   "cell_type": "markdown",
   "metadata": {
    "id": "njJsI2bw_kbw"
   },
   "source": [
    "## Train Model"
   ]
  },
  {
   "cell_type": "code",
   "execution_count": 23,
   "metadata": {
    "colab": {
     "base_uri": "https://localhost:8080/"
    },
    "id": "ARf4pjas_Ehz",
    "outputId": "17053a4d-4bb6-4213-8d8a-6c97986d8b60"
   },
   "outputs": [
    {
     "name": "stdout",
     "output_type": "stream",
     "text": [
      "Epoch 1/50\n",
      "138/138 - 27s - loss: 1.5092 - accuracy: 0.2052 - val_loss: 1.3810 - val_accuracy: 0.2486\n",
      "Epoch 2/50\n",
      "138/138 - 14s - loss: 1.3026 - accuracy: 0.2661 - val_loss: 1.2733 - val_accuracy: 0.2797\n",
      "Epoch 3/50\n",
      "138/138 - 13s - loss: 1.2357 - accuracy: 0.2815 - val_loss: 1.2296 - val_accuracy: 0.2949\n",
      "Epoch 4/50\n",
      "138/138 - 12s - loss: 1.1983 - accuracy: 0.2947 - val_loss: 1.2035 - val_accuracy: 0.3062\n",
      "Epoch 5/50\n",
      "138/138 - 13s - loss: 1.1723 - accuracy: 0.3084 - val_loss: 1.1822 - val_accuracy: 0.3164\n",
      "Epoch 6/50\n",
      "138/138 - 14s - loss: 1.1526 - accuracy: 0.3211 - val_loss: 1.1691 - val_accuracy: 0.3164\n",
      "Epoch 7/50\n",
      "138/138 - 14s - loss: 1.1362 - accuracy: 0.3290 - val_loss: 1.1560 - val_accuracy: 0.3239\n",
      "Epoch 8/50\n",
      "138/138 - 14s - loss: 1.1224 - accuracy: 0.3337 - val_loss: 1.1435 - val_accuracy: 0.3318\n",
      "Epoch 9/50\n",
      "138/138 - 14s - loss: 1.1107 - accuracy: 0.3411 - val_loss: 1.1351 - val_accuracy: 0.3316\n",
      "Epoch 10/50\n",
      "138/138 - 14s - loss: 1.1005 - accuracy: 0.3450 - val_loss: 1.1279 - val_accuracy: 0.3322\n",
      "Epoch 11/50\n",
      "138/138 - 14s - loss: 1.0913 - accuracy: 0.3509 - val_loss: 1.1228 - val_accuracy: 0.3413\n",
      "Epoch 12/50\n",
      "138/138 - 14s - loss: 1.0828 - accuracy: 0.3567 - val_loss: 1.1141 - val_accuracy: 0.3485\n",
      "Epoch 13/50\n",
      "138/138 - 14s - loss: 1.0747 - accuracy: 0.3618 - val_loss: 1.1094 - val_accuracy: 0.3508\n",
      "Epoch 14/50\n",
      "138/138 - 15s - loss: 1.0678 - accuracy: 0.3644 - val_loss: 1.1040 - val_accuracy: 0.3477\n",
      "Epoch 15/50\n",
      "138/138 - 16s - loss: 1.0604 - accuracy: 0.3698 - val_loss: 1.1019 - val_accuracy: 0.3506\n",
      "Epoch 16/50\n",
      "138/138 - 15s - loss: 1.0546 - accuracy: 0.3706 - val_loss: 1.0974 - val_accuracy: 0.3523\n",
      "Epoch 17/50\n",
      "138/138 - 13s - loss: 1.0479 - accuracy: 0.3772 - val_loss: 1.0944 - val_accuracy: 0.3552\n",
      "Epoch 18/50\n",
      "138/138 - 12s - loss: 1.0426 - accuracy: 0.3784 - val_loss: 1.0883 - val_accuracy: 0.3598\n",
      "Epoch 19/50\n",
      "138/138 - 13s - loss: 1.0369 - accuracy: 0.3829 - val_loss: 1.0861 - val_accuracy: 0.3583\n",
      "Epoch 20/50\n",
      "138/138 - 12s - loss: 1.0318 - accuracy: 0.3837 - val_loss: 1.0812 - val_accuracy: 0.3642\n",
      "Epoch 21/50\n",
      "138/138 - 13s - loss: 1.0261 - accuracy: 0.3869 - val_loss: 1.0786 - val_accuracy: 0.3609\n",
      "Epoch 22/50\n",
      "138/138 - 13s - loss: 1.0212 - accuracy: 0.3917 - val_loss: 1.0786 - val_accuracy: 0.3642\n",
      "Epoch 23/50\n",
      "138/138 - 14s - loss: 1.0166 - accuracy: 0.3943 - val_loss: 1.0746 - val_accuracy: 0.3678\n",
      "Epoch 24/50\n",
      "138/138 - 16s - loss: 1.0117 - accuracy: 0.3979 - val_loss: 1.0726 - val_accuracy: 0.3649\n",
      "Epoch 25/50\n",
      "138/138 - 14s - loss: 1.0079 - accuracy: 0.3983 - val_loss: 1.0688 - val_accuracy: 0.3697\n",
      "Epoch 26/50\n",
      "138/138 - 15s - loss: 1.0031 - accuracy: 0.4028 - val_loss: 1.0669 - val_accuracy: 0.3715\n",
      "Epoch 27/50\n",
      "138/138 - 15s - loss: 0.9999 - accuracy: 0.4058 - val_loss: 1.0661 - val_accuracy: 0.3706\n",
      "Epoch 28/50\n",
      "138/138 - 15s - loss: 0.9951 - accuracy: 0.4065 - val_loss: 1.0635 - val_accuracy: 0.3728\n",
      "Epoch 29/50\n",
      "138/138 - 14s - loss: 0.9912 - accuracy: 0.4083 - val_loss: 1.0621 - val_accuracy: 0.3737\n",
      "Epoch 30/50\n",
      "138/138 - 14s - loss: 0.9877 - accuracy: 0.4115 - val_loss: 1.0617 - val_accuracy: 0.3750\n",
      "Epoch 31/50\n",
      "138/138 - 14s - loss: 0.9840 - accuracy: 0.4126 - val_loss: 1.0574 - val_accuracy: 0.3735\n",
      "Epoch 32/50\n",
      "138/138 - 15s - loss: 0.9806 - accuracy: 0.4147 - val_loss: 1.0576 - val_accuracy: 0.3726\n",
      "Epoch 33/50\n",
      "138/138 - 15s - loss: 0.9763 - accuracy: 0.4175 - val_loss: 1.0574 - val_accuracy: 0.3708\n"
     ]
    }
   ],
   "source": [
    "h = model.fit(\n",
    "    X_train, y_train,\n",
    "    epochs=50, verbose=2,\n",
    "    validation_data=(X_test, y_test),\n",
    "    callbacks=[\n",
    "               tf.keras.callbacks.EarlyStopping(monitor=\"val_accuracy\", patience=3)\n",
    "    ]\n",
    ")"
   ]
  },
  {
   "cell_type": "code",
   "execution_count": 24,
   "metadata": {
    "colab": {
     "base_uri": "https://localhost:8080/",
     "height": 500
    },
    "id": "T4ypRUVuGUJT",
    "outputId": "cea00d33-50d0-45e0-f138-2a00a44766f6"
   },
   "outputs": [
    {
     "data": {
      "text/plain": [
       "<matplotlib.legend.Legend at 0x22167919248>"
      ]
     },
     "execution_count": 24,
     "metadata": {},
     "output_type": "execute_result"
    },
    {
     "data": {
      "image/png": "[encoded data removed]",
      "text/plain": [
       "<Figure size 720x576 with 1 Axes>"
      ]
     },
     "metadata": {
      "needs_background": "light"
     },
     "output_type": "display_data"
    }
   ],
   "source": [
    "# visualize training\n",
    "import matplotlib.pyplot as plt\n",
    "\n",
    "plt.figure(figsize=(10, 8))\n",
    "\n",
    "num_epochs = len(h.history[\"loss\"])\n",
    "plt.plot(range(num_epochs), h.history[\"val_accuracy\"], label=\"validation accuracy\")\n",
    "plt.plot(range(num_epochs), h.history[\"accuracy\"], label=\"training accuracy\")\n",
    "plt.legend()"
   ]
  },
  {
   "cell_type": "code",
   "execution_count": 25,
   "metadata": {
    "id": "LGspliqWJng-"
   },
   "outputs": [],
   "source": [
    "# save the model\n",
    "model.save(\"model/us_name_generator_model.h5\")"
   ]
  },
  {
   "cell_type": "code",
   "execution_count": 26,
   "metadata": {},
   "outputs": [],
   "source": [
    "# load the model\n",
    "model = tf.keras.models.load_model(\"model/us_name_generator_model.h5\")"
   ]
  },
  {
   "cell_type": "markdown",
   "metadata": {},
   "source": [
    "## Inference Model"
   ]
  },
  {
   "cell_type": "code",
   "execution_count": 27,
   "metadata": {},
   "outputs": [],
   "source": [
    "# get layers of trained model\n",
    "inputs = model.layers[0].input\n",
    "embedding_layer = model.layers[1]\n",
    "lstm_layer = model.layers[2]\n",
    "output_layer = model.layers[3]"
   ]
  },
  {
   "cell_type": "code",
   "execution_count": 28,
   "metadata": {},
   "outputs": [],
   "source": [
    "## create inference model\n",
    "\n",
    "# state inputs\n",
    "state_input_h = Input(shape=(embedding_dim,))\n",
    "state_input_c = Input(shape=(embedding_dim,))\n",
    "state_inputs = [state_input_h, state_input_c]\n",
    "\n",
    "# get outputs of embedding layer\n",
    "emb_outputs = embedding_layer(inputs)\n",
    "\n",
    "# predict next char using lstm layer\n",
    "x, h, c = lstm_layer(emb_outputs, initial_state=state_inputs)\n",
    "states = [h, c]\n",
    "\n",
    "# get outputs\n",
    "outputs = output_layer(x)\n",
    "\n",
    "# create model\n",
    "inference_model = Model(\n",
    "    inputs = [inputs] + state_inputs,\n",
    "    outputs = [outputs] + states\n",
    ")"
   ]
  },
  {
   "cell_type": "code",
   "execution_count": 29,
   "metadata": {},
   "outputs": [],
   "source": [
    "# save inference model\n",
    "inference_model.save(\"model/us_name_generator_inference_model.h5\")"
   ]
  },
  {
   "cell_type": "markdown",
   "metadata": {},
   "source": [
    "# 3) TEST MODEL"
   ]
  },
  {
   "cell_type": "markdown",
   "metadata": {},
   "source": [
    "## Load inference model"
   ]
  },
  {
   "cell_type": "code",
   "execution_count": 30,
   "metadata": {},
   "outputs": [],
   "source": [
    "import tensorflow as tf\n",
    "import keras"
   ]
  },
  {
   "cell_type": "code",
   "execution_count": 31,
   "metadata": {},
   "outputs": [],
   "source": [
    "# Model Settings\n",
    "embedding_dim = 64"
   ]
  },
  {
   "cell_type": "code",
   "execution_count": 32,
   "metadata": {},
   "outputs": [
    {
     "name": "stdout",
     "output_type": "stream",
     "text": [
      "WARNING:tensorflow:No training configuration found in the save file, so the model was *not* compiled. Compile it manually.\n"
     ]
    }
   ],
   "source": [
    "# load the model\n",
    "inference_model = tf.keras.models.load_model(\"model/us_name_generator_inference_model.h5\")"
   ]
  },
  {
   "cell_type": "markdown",
   "metadata": {},
   "source": [
    "## Generate Names"
   ]
  },
  {
   "cell_type": "code",
   "execution_count": 96,
   "metadata": {},
   "outputs": [],
   "source": [
    "import re"
   ]
  },
  {
   "cell_type": "code",
   "execution_count": 97,
   "metadata": {},
   "outputs": [],
   "source": [
    "def generate_names(seed=\"\", num_names=1):\n",
    "    \"\"\"Generate chars given a seed (it can be an empty string)\n",
    "    \n",
    "    Predicts next chars according to previous chars in a loop.\n",
    "    Next chars are chosen using probabilities to create different names each time.\n",
    "    \n",
    "    Parameters:\n",
    "        seed (string) = \"\":\n",
    "            initial characters of the wanted name\n",
    "        num_names (integer) = 1:\n",
    "            number of names to generate\n",
    "    \n",
    "    Returns:\n",
    "        (list of strings):\n",
    "            generated names\n",
    "    \"\"\"\n",
    "    \n",
    "    # add start character (<) to seeds\n",
    "    seeds = [\"<\" + seed for _ in range(num_names)]\n",
    "    outputs = seeds.copy()\n",
    "    \n",
    "    # create initial states\n",
    "    h_state = tf.zeros(shape=(num_names, embedding_dim))\n",
    "    c_state = tf.zeros(shape=(num_names, embedding_dim))\n",
    "    states = [h_state, c_state]\n",
    "    \n",
    "    # generation loop\n",
    "    for _ in range(17):\n",
    "        # convert text seeds to model input\n",
    "        seqs = np.array([name_to_seq(seed) for seed in seeds])\n",
    "        \n",
    "        # predict next char\n",
    "        probs, h_state, c_state = inference_model([seqs] + states)\n",
    "        states = [h_state, c_state]\n",
    "        probs = np.asarray(probs)[:, -1, :]\n",
    "        \n",
    "        # choose next chars using predicted probabilities\n",
    "        for i in range(num_names):\n",
    "            index = np.random.choice(list(range(vocab_size)), p=probs[i].ravel())\n",
    "        \n",
    "            if index == 0:\n",
    "                index = char_to_index[\"<\"]\n",
    "            \n",
    "            pred_char = index_to_char[index]\n",
    "            seeds[i] = pred_char\n",
    "            outputs[i] += pred_char\n",
    "        \n",
    "        # if all predicted chars are end char (>), end the generation\n",
    "        if all([output[-1] == \">\" for output in outputs]):\n",
    "            break\n",
    "            \n",
    "    # process outputs\n",
    "    for i, output in enumerate(outputs):\n",
    "        name = re.findall(\"<[a-z]+>\", output)\n",
    "        if name:\n",
    "            # get rid of start(<) and end(>) chars\n",
    "            outputs[i] = name[0].strip(\"<>\")\n",
    "        else:\n",
    "            outputs[i] = \"\"\n",
    "            \n",
    "    return outputs"
   ]
  },
  {
   "cell_type": "code",
   "execution_count": 98,
   "metadata": {},
   "outputs": [],
   "source": [
    "def is_real_name(name):\n",
    "    \"\"\"Checks whether created name is in names dataset or not\"\"\"\n",
    "    return name.strip(\"<> \") in names_set"
   ]
  },
  {
   "cell_type": "code",
   "execution_count": 85,
   "metadata": {},
   "outputs": [],
   "source": [
    "def generate_artificial_names(seed=\"\", num_names=1):\n",
    "    \"\"\"Generates artificial English names.\n",
    "    Generated names will not be real names.\n",
    "    \n",
    "    Parameters:\n",
    "        seed (string) = \"\":\n",
    "            initial characters of the wanted name\n",
    "        num_names (integer) = 1:\n",
    "            number of names to generate\n",
    "    \n",
    "    Returns:\n",
    "        (list of strings):\n",
    "            generated names\n",
    "    \"\"\"\n",
    "    generated_names = []\n",
    "    \n",
    "    stop = False\n",
    "    while not stop:\n",
    "        # generate names more than needed as some names may exist in real life\n",
    "        num_needed_names = (num_names - len(generated_names)) * 3 // 2\n",
    "        names = generate_names(seed=seed, num_names=num_needed_names)\n",
    "        \n",
    "        # check whether names are in dataset or not\n",
    "        for name in names:\n",
    "            if not is_real_name(name):\n",
    "                generated_names.append(name)\n",
    "                if len(generated_names) == num_names:\n",
    "                    stop = True\n",
    "                    break\n",
    "    \n",
    "    return generated_names"
   ]
  },
  {
   "cell_type": "markdown",
   "metadata": {},
   "source": [
    "## Name Generation Tests"
   ]
  },
  {
   "cell_type": "code",
   "execution_count": 99,
   "metadata": {},
   "outputs": [
    {
     "data": {
      "text/plain": [
       "['jelene',\n",
       " 'isammee',\n",
       " 'mayrod',\n",
       " 'ketha',\n",
       " 'marrice',\n",
       " 'reanne',\n",
       " 'rodian',\n",
       " 'morelina',\n",
       " 'leoneka',\n",
       " 'ralba']"
      ]
     },
     "execution_count": 99,
     "metadata": {},
     "output_type": "execute_result"
    }
   ],
   "source": [
    "seed = \"\"\n",
    "generated = generate_artificial_names(seed, 10)\n",
    "generated"
   ]
  },
  {
   "cell_type": "code",
   "execution_count": 100,
   "metadata": {},
   "outputs": [
    {
     "data": {
      "text/plain": [
       "['terna',\n",
       " 'temdi',\n",
       " 'terrel',\n",
       " 'terish',\n",
       " 'tearias',\n",
       " 'tedby',\n",
       " 'teriso',\n",
       " 'tentha',\n",
       " 'tema',\n",
       " 'tephie']"
      ]
     },
     "execution_count": 100,
     "metadata": {},
     "output_type": "execute_result"
    }
   ],
   "source": [
    "seed = \"te\"\n",
    "generated = generate_artificial_names(seed, 10)\n",
    "generated"
   ]
  },
  {
   "cell_type": "code",
   "execution_count": 112,
   "metadata": {},
   "outputs": [
    {
     "name": "stdout",
     "output_type": "stream",
     "text": [
      "Wall time: 1.36 s\n"
     ]
    }
   ],
   "source": [
    "%%time\n",
    "seed = \"\"\n",
    "generated = generate_artificial_names(seed, 1000)"
   ]
  },
  {
   "cell_type": "code",
   "execution_count": null,
   "metadata": {},
   "outputs": [],
   "source": []
  },
  {
   "cell_type": "code",
   "execution_count": null,
   "metadata": {},
   "outputs": [],
   "source": []
  }
 ],
 "metadata": {
  "kernelspec": {
   "display_name": "Python 3",
   "language": "python",
   "name": "python3"
  },
  "language_info": {
   "codemirror_mode": {
    "name": "ipython",
    "version": 3
   },
   "file_extension": ".py",
   "mimetype": "text/x-python",
   "name": "python",
   "nbconvert_exporter": "python",
   "pygments_lexer": "ipython3",
   "version": "3.7.5"
  }
 },
 "nbformat": 4,
 "nbformat_minor": 4
}
